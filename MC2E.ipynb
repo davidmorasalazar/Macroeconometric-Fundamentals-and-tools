{
 "cells": [
  {
   "cell_type": "markdown",
   "metadata": {
    "id": "KnXGJXp-FW1e"
   },
   "source": [
    "<center><img src=\"https://github.com/randall-romero/EC4301/blob/master/Laboratorios/Tema09-SEM/escuela-de-economia.png?raw=1\" width=\"260\" height=\"60\"></center>\n",
    "<center>\n",
    "    <b>EC4301 MACROECONOMETRÍA</b><br>\n",
    "    <b>Profesor:  Randall Romero Aguilar, PhD</b>\n",
    "    <br><b>Estudiantes: David Mora Salazar y Manfred Ramírez Alfaro</b><br>\n",
    "<br><br>\n",
    "<b>Tarea 8:</b>\n",
    "<div style=\"font-size:175%;color:white; background-color: #0064b0;\">Tarea 8: Modelos de ecuaciones simultáneas (SEM)</div>\n",
    "<div style=\"font-size:250%;color:white; background-color: #0064b0;\">El modelo de la telaraña</div> \n",
    "</center>"
   ]
  },
  {
   "cell_type": "markdown",
   "metadata": {},
   "source": [
    "<h2>Pregunta 1</h2>"
   ]
  },
  {
   "cell_type": "markdown",
   "metadata": {
    "Collapsed": "false",
    "id": "zVg-OgSaFW1h"
   },
   "source": [
    "# Objetivo\n",
    "\n",
    "En este cuaderno se presenta el modelo de la telaraña para dos mercados, con el fin de ilustrar los siguientes conceptos\n",
    "* Sesgo de simultaneidad\n",
    "* Estimación de mínimos cuadrados en dos etapas\n",
    "* Efectos dinámicos de una perturbación\n",
    "\n",
    "En particular, si $q$ y $p$ denotan cantidad y precio,$s$ y $d$ representan oferta y demanda, $m$ y $w$ maíz y trigo, y $t$ tiempo, el modelo es\n",
    "\n",
    "\\begin{align*} \n",
    "q^s_{mt} &= 0.5p_{m,t-1} - 0.2p_{w,t-1} + 200 + \\epsilon^s_{mt}  \\tag{oferta de maíz}\\\\\n",
    "q^s_{wt} &= -0.2p_{m,t-1} + 0.4p_{w,t-1} + 80 + \\epsilon^s_{wt}  \\tag{oferta de trigo} \\\\\n",
    "q^d_{mt} &= - 0.2p_{mt} + 1.2p_{wt} + 100 + \\epsilon^d_{mt} \\tag{demanda de maíz}\\\\\n",
    "q^d_{wt} &= 1.1p_{mt} - 0.4p_{wt} + 50 + \\epsilon^d_{wt} \\tag{demanda de trigo}\n",
    "\\end{align*}\n",
    "\n",
    "y puede escribirse\n",
    "$$\n",
    "\\underset{\\Gamma}{\\begin{pmatrix}1 & 0 & 0 & 0 \\\\ 0 & 1 & 0 & 0 \\\\ 1 & 0 & 0.2 & -1.2 \\\\ 0 & 1 & -1.1 & 0.4\\end{pmatrix}} \n",
    "\\underset{Y_t}{\\begin{pmatrix}q_{mt} \\\\ q_{wt} \\\\ p_{mt} \\\\ p_{wt}\\end{pmatrix}} = \n",
    "\\underset{B}{\\begin{pmatrix}0.5 & -0.2 \\\\ -0.2 & 0.4 \\\\  0 & 0 \\\\ 0 & 0\\end{pmatrix}} \n",
    "\\underset{Y_{t-1}}{\\begin{pmatrix}p_{m,t-1} \\\\ p_{w,t-1}\\end{pmatrix}}  +\n",
    "\\underset{c}{\\begin{pmatrix}200 \\\\ 80 \\\\ 100 \\\\50\\end{pmatrix}} +\n",
    "\\underset{\\epsilon_t}{\\begin{pmatrix}\\epsilon^s_{mt} \\\\ \\epsilon^s_{wt} \\\\ \\epsilon^d_{mt} \\\\ \\epsilon^d_{wt}\\end{pmatrix}}\n",
    "$$"
   ]
  },
  {
   "cell_type": "markdown",
   "metadata": {
    "Collapsed": "false",
    "id": "8TYBO8oTFW1i"
   },
   "source": [
    "# Preparación\n",
    "\n",
    "Importamos los paquetes de Python necesarios. En particular\n",
    "* numpy: para operaciones de álgebra lineal\n",
    "* pyplot: para graficar\n",
    "* pandas: para manejar datos en una tabla\n",
    "* statstmodels: estimaciones econométricas"
   ]
  },
  {
   "cell_type": "code",
   "execution_count": 1,
   "metadata": {
    "Collapsed": "false",
    "id": "wKlWxdAGFW1j"
   },
   "outputs": [],
   "source": [
    "import numpy as np\n",
    "import matplotlib.pyplot as plt\n",
    "import pandas as pd\n",
    "import seaborn as sns\n",
    "from statsmodels.formula.api import ols\n",
    "from statsmodels.sandbox.regression.gmm import IV2SLS\n",
    "from sklearn.metrics import mean_squared_error\n",
    "\n",
    "%matplotlib inline\n",
    "sns.set(style=\"white\")\n",
    "np.set_printoptions(precision=3)"
   ]
  },
  {
   "cell_type": "markdown",
   "metadata": {
    "Collapsed": "false",
    "id": "VBQE8h6YFW1k"
   },
   "source": [
    "Definimos los parámetros del modelo"
   ]
  },
  {
   "cell_type": "code",
   "execution_count": 2,
   "metadata": {
    "Collapsed": "false",
    "id": "3c4UGVGpFW1k"
   },
   "outputs": [],
   "source": [
    "T = 100\n",
    "endogenas = ['Q_maiz','Q_trigo','P_maiz','P_trigo']\n",
    "\n",
    "Gamma = np.array([      # RELACIÓN SIMULTANEA\n",
    "    [1, 0,   0,    0],  # oferta maiz\n",
    "    [0, 1,   0,    0],  # oferta trigo\n",
    "    [1, 0, 0.2, -1.2],  # demanda maiz\n",
    "    [0, 1,-1.1, 0.4]])  # demanda trigo \n",
    "\n",
    "cstr = np.array([200,80,100,50])  # interceptos forma estructural\n",
    "\n",
    "Beta = np.array([  # PENDIENTES ESTRUCTURALES\n",
    "    [ 0.5, -0.2],  # oferta maiz\n",
    "    [-0.2,  0.4],  # oferta trigo\n",
    "    [   0,    0],  # demanda maiz\n",
    "    [   0,    0]]) # demanda trigo "
   ]
  },
  {
   "cell_type": "markdown",
   "metadata": {
    "Collapsed": "false",
    "id": "cNQo23THFW1k"
   },
   "source": [
    "A partir de la inversa de $\\Gamma$, obtenemos los parámetros de la forma reducida"
   ]
  },
  {
   "cell_type": "code",
   "execution_count": 3,
   "metadata": {
    "Collapsed": "false",
    "id": "uxfjdurUFW1l"
   },
   "outputs": [],
   "source": [
    "Gammainv = np.linalg.inv(Gamma)\n",
    "\n",
    "cred = Gammainv @ cstr # interceptos forma reducida\n",
    "Pi = Gammainv @ Beta   # pendientes forma reducida "
   ]
  },
  {
   "cell_type": "code",
   "execution_count": 4,
   "metadata": {
    "Collapsed": "false",
    "id": "uFkZeaiUFW1l",
    "outputId": "03898368-f60d-4f0e-e003-6d09153c3b54"
   },
   "outputs": [
    {
     "data": {
      "text/plain": [
       "array([[ 0.5  , -0.2  ],\n",
       "       [-0.2  ,  0.4  ],\n",
       "       [-0.032,  0.323],\n",
       "       [ 0.411, -0.113]])"
      ]
     },
     "execution_count": 4,
     "metadata": {},
     "output_type": "execute_result"
    }
   ],
   "source": [
    "Pi"
   ]
  },
  {
   "cell_type": "markdown",
   "metadata": {
    "Collapsed": "false",
    "id": "oWldkPIyFW1n"
   },
   "source": [
    "## Identificación del sistema\n",
    "Ahora verificamos que el sistema está exactamente identificado, utilizando las condiciones de rango y de orden."
   ]
  },
  {
   "cell_type": "code",
   "execution_count": 5,
   "metadata": {
    "Collapsed": "false",
    "id": "ZYHe9pqJFW1n",
    "outputId": "6f1531a5-1101-440b-b9bd-54f8d62c7a70"
   },
   "outputs": [
    {
     "name": "stdout",
     "output_type": "stream",
     "text": [
      "\n",
      "La ecuación 1 tiene 4 restricciones y sus eigenvalores son [-0.853  1.453  1.     1.   ]\n",
      "\n",
      "La ecuación 2 tiene 4 restricciones y sus eigenvalores son [-0.853  1.453  1.     1.   ]\n",
      "\n",
      "La ecuación 3 tiene 4 restricciones y sus eigenvalores son [ 1.452  1.203 -0.452 -0.203]\n",
      "\n",
      "La ecuación 4 tiene 4 restricciones y sus eigenvalores son [ 1.452  1.203 -0.452 -0.203]\n"
     ]
    }
   ],
   "source": [
    "coeffs = np.c_[Gamma, Beta, cstr]\n",
    "restr = np.abs(coeffs) == coeffs**2 # coeficientes restringidos son 1, -1 o 0. Esto funciona para este ejemplo en particular\n",
    "for i, fila in enumerate(restr):\n",
    "    temp = coeffs[:,fila]\n",
    "    print(f'\\nLa ecuación {i+1} tiene {temp.shape[1]} restricciones y sus eigenvalores son', np.linalg.eigvals(temp))\n",
    "    "
   ]
  },
  {
   "cell_type": "markdown",
   "metadata": {
    "Collapsed": "false",
    "id": "Sg3M8uXFFW1o"
   },
   "source": [
    "# Simulación del modelo\n",
    "\n",
    "Definimos la función *telaraña*, la cual simula $T$ observaciones de los precios y cantidades de trigo, luego de desechar las primeras *drop* observaciones. El resultado se retorna como una tabla de *Pandas*, la cual facilita la creación de gráficos y la estimación econométrica posterior."
   ]
  },
  {
   "cell_type": "code",
   "execution_count": 6,
   "metadata": {
    "Collapsed": "false",
    "id": "DK3SyjWCFW1o"
   },
   "outputs": [],
   "source": [
    "def telaraña(T, drop=10, estocastico=True):\n",
    "    if estocastico:\n",
    "        e_struc = np.random.randn(T+drop,4)\n",
    "        e_reduc = e_struc @ Gammainv.T\n",
    "    else:\n",
    "        e_reduc = np.zeros((T+drop,4))\n",
    "            \n",
    "    y = np.zeros((T+drop,4))\n",
    "    y[0,-2:] = [120, 70]\n",
    "    for t in range(T+drop-1):\n",
    "        y[t+1] = cred + Pi @ y[t,-2:] + e_reduc[t+1]\n",
    "    return pd.DataFrame(y[drop:], columns=endogenas)"
   ]
  },
  {
   "cell_type": "markdown",
   "metadata": {
    "Collapsed": "false",
    "id": "-AxD7wSEFW1p"
   },
   "source": [
    "Los datos simulados aparentan ser estacionarios. Para confirmarlo, podemos escribir el modelo en forma de un VAR(1) reducido:\n",
    "$$\n",
    "\\begin{pmatrix}1 & 0 & 0 & 0 \\\\ 0 & 1 & 0 & 0 \\\\ 1 & 0 & 0.2 & -1.2 \\\\ 0 & 1 & -1.1 & 0.4\\end{pmatrix}\n",
    "\\begin{pmatrix}q_{mt} \\\\ q_{wt} \\\\ p_{mt} \\\\ p_{wt}\\end{pmatrix} = \n",
    "\\begin{pmatrix}0 & 0 & 0.5 & -0.2 \\\\0 & 0 &  -0.2 & 0.4 \\\\0 & 0 &   0 & 0 \\\\0 & 0 &  0 & 0\\end{pmatrix}\n",
    "\\begin{pmatrix}q_{m,t-1} \\\\ q_{w,t-1} \\\\ p_{m,t-1} \\\\ p_{w,t-1}\\end{pmatrix}  +\n",
    "\\begin{pmatrix}200 \\\\ 80 \\\\ 100 \\\\50\\end{pmatrix} +\n",
    "\\begin{pmatrix}\\epsilon^s_{mt} \\\\ \\epsilon^s_{wt} \\\\ \\epsilon^d_{mt} \\\\ \\epsilon^d_{wt}\\end{pmatrix}\n",
    "$$\n",
    "\n",
    "y obtenemos los eigenvalores de su matriz de coeficientes autorregresivos.\n",
    "\n",
    "\n"
   ]
  },
  {
   "cell_type": "code",
   "execution_count": 7,
   "metadata": {
    "Collapsed": "false",
    "id": "HM7lkFOGFW1q",
    "outputId": "9e0c9b81-dcfc-4430-c56a-751e0dee4554"
   },
   "outputs": [
    {
     "name": "stdout",
     "output_type": "stream",
     "text": [
      "La matriz de coeficientes autorregresivos en forma reducida es \n",
      " [[ 0.     0.     0.5   -0.2  ]\n",
      " [ 0.     0.    -0.2    0.4  ]\n",
      " [ 0.     0.    -0.032  0.323]\n",
      " [ 0.     0.     0.411 -0.113]]\n",
      "\n",
      "Los eigenvalores de la matriz autorregresiva en forma reducida son  [ 0.     0.     0.294 -0.439]\n"
     ]
    }
   ],
   "source": [
    "arcoefstr = np.c_[np.zeros([4,2]),Beta]\n",
    "arcoef = Gammainv @ arcoefstr\n",
    "print('La matriz de coeficientes autorregresivos en forma reducida es \\n', arcoef)\n",
    "print('\\nLos eigenvalores de la matriz autorregresiva en forma reducida son ', np.linalg.eigvals(arcoef) )"
   ]
  },
  {
   "cell_type": "markdown",
   "metadata": {
    "Collapsed": "false",
    "id": "_KrI9N0IFW1r"
   },
   "source": [
    "Como todos los eigenvalores están dentro del círculo unitario, hemos confirmado que el sistema es estable y por tanto estacionario. Siendo estacionario, el sistema tiene media constante, que calculamos a continuación:"
   ]
  },
  {
   "cell_type": "code",
   "execution_count": 8,
   "metadata": {
    "Collapsed": "false",
    "id": "iQMkcrhTFW1r",
    "outputId": "cee0c9ad-992a-433e-c7bf-bcef6c66bcff"
   },
   "outputs": [
    {
     "name": "stdout",
     "output_type": "stream",
     "text": [
      "    Q_maiz: 224.44\n",
      "   Q_trigo: 108.57\n",
      "    P_maiz:  96.83\n",
      "   P_trigo: 119.84\n"
     ]
    }
   ],
   "source": [
    "esperados = np.linalg.inv(np.eye(4) - arcoef) @ cred\n",
    "for val in zip(endogenas, esperados): print('%10s: %6.2f' % val)"
   ]
  },
  {
   "cell_type": "markdown",
   "metadata": {
    "Collapsed": "false",
    "id": "_C35KabiFW1t"
   },
   "source": [
    "## Estimación OLS de la forma estructural del modelo\n",
    "\n",
    "A continuación simulamos el modelo de la telaraña 1000 veces, y estimamos cada ecuación del modelo con OLS."
   ]
  },
  {
   "cell_type": "code",
   "execution_count": 9,
   "metadata": {
    "Collapsed": "false",
    "id": "ybsMwkQGFW1t"
   },
   "outputs": [],
   "source": [
    "NSIMUL = 1000\n",
    "\n",
    "def ols_params(modelo, T=24):\n",
    "    datos = telaraña(T)\n",
    "    datos['LP_maiz'] = datos['P_maiz'].shift()   # precio maiz rezagado\n",
    "    datos['LP_trigo'] = datos['P_trigo'].shift() # precio trigo rezagado\n",
    "    return ols(modelo, datos).fit().params\n",
    "\n",
    "true_params = {\n",
    "    'ms': np.r_[cstr[0],Beta[0]],\n",
    "    'ws': np.r_[cstr[1],Beta[1]],\n",
    "    'md': np.r_[cstr[2], -Gamma[2,-2:]],\n",
    "    'wd': np.r_[cstr[3], -Gamma[3,-2:]]}\n",
    "\n",
    "description = {\n",
    "    'ms': 'Oferta de maíz',\n",
    "    'ws': 'Oferta de trigo',\n",
    "    'md': 'Demanda de maíz',\n",
    "    'wd': 'Demanda de trigo'}"
   ]
  },
  {
   "cell_type": "markdown",
   "metadata": {},
   "source": [
    "<b>Estimación del error cuadrático medio del estimador MCO</b>"
   ]
  },
  {
   "cell_type": "markdown",
   "metadata": {
    "tags": []
   },
   "source": [
    "Error cuadrático medio de la demanda de maíz."
   ]
  },
  {
   "cell_type": "code",
   "execution_count": 10,
   "metadata": {},
   "outputs": [],
   "source": [
    "simul = pd.concat([ols_params('Q_maiz ~ 1 + P_maiz + P_trigo', 24) for x in range(NSIMUL)],axis=1).T"
   ]
  },
  {
   "cell_type": "code",
   "execution_count": 12,
   "metadata": {},
   "outputs": [],
   "source": [
    "def error_cuadratico_medio(simulacion,observado,parametro):\n",
    "    real = []\n",
    "    predic = []\n",
    "    for i in range(1000):\n",
    "        real.append(observado)\n",
    "        predic.append(simulacion[parametro][i])\n",
    "    return mean_squared_error(real, predic)"
   ]
  },
  {
   "cell_type": "markdown",
   "metadata": {},
   "source": [
    "Error cuadrático medio del coeficiente estimado del precio del maíz."
   ]
  },
  {
   "cell_type": "code",
   "execution_count": 13,
   "metadata": {
    "tags": []
   },
   "outputs": [
    {
     "data": {
      "text/plain": [
       "0.01715317254961159"
      ]
     },
     "execution_count": 13,
     "metadata": {},
     "output_type": "execute_result"
    }
   ],
   "source": [
    "error_cuadratico_medio(simul,-0.2,\"P_maiz\")"
   ]
  },
  {
   "cell_type": "markdown",
   "metadata": {},
   "source": [
    "Error cuadrático medio del coeficiente estimado del precio del trigo."
   ]
  },
  {
   "cell_type": "code",
   "execution_count": 14,
   "metadata": {},
   "outputs": [
    {
     "data": {
      "text/plain": [
       "0.2451547131352129"
      ]
     },
     "execution_count": 14,
     "metadata": {},
     "output_type": "execute_result"
    }
   ],
   "source": [
    "error_cuadratico_medio(simul,1.2,\"P_trigo\")"
   ]
  },
  {
   "cell_type": "markdown",
   "metadata": {},
   "source": [
    "Error cuadrático medio del intercepto de la demanda de maíz."
   ]
  },
  {
   "cell_type": "code",
   "execution_count": 38,
   "metadata": {},
   "outputs": [
    {
     "data": {
      "text/plain": [
       "3039.427218985352"
      ]
     },
     "execution_count": 38,
     "metadata": {},
     "output_type": "execute_result"
    }
   ],
   "source": [
    "error_cuadratico_medio(simul,100,\"Intercept\")"
   ]
  },
  {
   "cell_type": "markdown",
   "metadata": {},
   "source": [
    "Error cuadrático medio de la demanda de trigo."
   ]
  },
  {
   "cell_type": "code",
   "execution_count": 15,
   "metadata": {},
   "outputs": [],
   "source": [
    "simulT = pd.concat([ols_params('Q_trigo ~ 1 + P_maiz + P_trigo', 24) for x in range(NSIMUL)],axis=1).T"
   ]
  },
  {
   "cell_type": "markdown",
   "metadata": {},
   "source": [
    "Error cuadrático medio del coeficiente estimado del precio del maíz."
   ]
  },
  {
   "cell_type": "code",
   "execution_count": 17,
   "metadata": {},
   "outputs": [
    {
     "data": {
      "text/plain": [
       "0.24824732027797977"
      ]
     },
     "execution_count": 17,
     "metadata": {},
     "output_type": "execute_result"
    }
   ],
   "source": [
    "error_cuadratico_medio(simulT,1.1,\"P_maiz\")"
   ]
  },
  {
   "cell_type": "markdown",
   "metadata": {},
   "source": [
    "Error cuadrático medio del coeficiente estimado del precio del trigo."
   ]
  },
  {
   "cell_type": "code",
   "execution_count": 18,
   "metadata": {},
   "outputs": [
    {
     "data": {
      "text/plain": [
       "0.03857269515918955"
      ]
     },
     "execution_count": 18,
     "metadata": {},
     "output_type": "execute_result"
    }
   ],
   "source": [
    "error_cuadratico_medio(simulT,-0.4,\"P_trigo\")"
   ]
  },
  {
   "cell_type": "markdown",
   "metadata": {},
   "source": [
    "Error cuadrático medio del intercepto de la demanda de trigo."
   ]
  },
  {
   "cell_type": "code",
   "execution_count": 36,
   "metadata": {},
   "outputs": [
    {
     "data": {
      "text/plain": [
       "1122.9055838162578"
      ]
     },
     "execution_count": 36,
     "metadata": {},
     "output_type": "execute_result"
    }
   ],
   "source": [
    "error_cuadratico_medio(simulT,50,\"Intercept\")"
   ]
  },
  {
   "cell_type": "markdown",
   "metadata": {
    "Collapsed": "false",
    "id": "nVBl8JOoFW1w"
   },
   "source": [
    "## Estimación 2SLS de la forma estructural del modelo"
   ]
  },
  {
   "cell_type": "code",
   "execution_count": 20,
   "metadata": {
    "Collapsed": "false",
    "id": "n3thKwhyFW1w"
   },
   "outputs": [],
   "source": [
    "def tsls_params(modelo, T=24):\n",
    "    datos = telaraña(T)\n",
    "    datos['LP_maiz'] = datos['P_maiz'].shift()   # precio maiz rezagado\n",
    "    datos['LP_trigo'] = datos['P_trigo'].shift() # precio trigo rezagado\n",
    " \n",
    "    etapa1 = pd.concat([ols('%s ~ LP_maiz + LP_trigo' % x, datos).fit().fittedvalues for x in endogenas],axis=1)\n",
    "    etapa1.columns = [st + '_OLS' for st in endogenas]\n",
    "    datos = pd.concat([datos, etapa1], axis=1)\n",
    "    return ols(modelo, datos).fit().params\n"
   ]
  },
  {
   "cell_type": "markdown",
   "metadata": {},
   "source": [
    "Luego de realizar esto, se requiere calcular el error cuadrático medio para el estimador MC2E."
   ]
  },
  {
   "cell_type": "markdown",
   "metadata": {},
   "source": [
    "Error cuadrático medio de la demanda de maíz."
   ]
  },
  {
   "cell_type": "code",
   "execution_count": 22,
   "metadata": {},
   "outputs": [],
   "source": [
    "simulM = pd.concat([tsls_params('Q_maiz_OLS ~ 1 + P_maiz_OLS + P_trigo_OLS', 24) for x in range(NSIMUL)],axis=1).T"
   ]
  },
  {
   "cell_type": "markdown",
   "metadata": {},
   "source": [
    "Error cuadrático medio del coeficiente estimado del precio del maíz."
   ]
  },
  {
   "cell_type": "code",
   "execution_count": 24,
   "metadata": {},
   "outputs": [
    {
     "data": {
      "text/plain": [
       "9204995.15344758"
      ]
     },
     "execution_count": 24,
     "metadata": {},
     "output_type": "execute_result"
    }
   ],
   "source": [
    "error_cuadratico_medio(simulM,-0.2,\"P_maiz_OLS\")"
   ]
  },
  {
   "cell_type": "markdown",
   "metadata": {},
   "source": [
    "Error cuadrático medio del coeficiente estimado del precio del trigo."
   ]
  },
  {
   "cell_type": "code",
   "execution_count": 25,
   "metadata": {
    "tags": []
   },
   "outputs": [
    {
     "data": {
      "text/plain": [
       "17770418.77834127"
      ]
     },
     "execution_count": 25,
     "metadata": {},
     "output_type": "execute_result"
    }
   ],
   "source": [
    "error_cuadratico_medio(simulM,1.2,\"P_trigo_OLS\")"
   ]
  },
  {
   "cell_type": "markdown",
   "metadata": {},
   "source": [
    "Error cuadrático medio del intercepto de la demanda de maíz."
   ]
  },
  {
   "cell_type": "code",
   "execution_count": 34,
   "metadata": {},
   "outputs": [
    {
     "data": {
      "text/plain": [
       "44874046573.29519"
      ]
     },
     "execution_count": 34,
     "metadata": {},
     "output_type": "execute_result"
    }
   ],
   "source": [
    "error_cuadratico_medio(simulM,100,\"Intercept\")"
   ]
  },
  {
   "cell_type": "markdown",
   "metadata": {},
   "source": [
    "Error cuadrático medio de la demanda de trigo."
   ]
  },
  {
   "cell_type": "code",
   "execution_count": 26,
   "metadata": {},
   "outputs": [],
   "source": [
    "simulTT = pd.concat([tsls_params('Q_trigo_OLS ~ 1 + P_maiz_OLS + P_trigo_OLS', 24) for x in range(NSIMUL)],axis=1).T"
   ]
  },
  {
   "cell_type": "markdown",
   "metadata": {},
   "source": [
    "Error cuadrático medio del coeficiente estimado del precio del maíz."
   ]
  },
  {
   "cell_type": "code",
   "execution_count": 27,
   "metadata": {},
   "outputs": [
    {
     "data": {
      "text/plain": [
       "952.91217604979"
      ]
     },
     "execution_count": 27,
     "metadata": {},
     "output_type": "execute_result"
    }
   ],
   "source": [
    "error_cuadratico_medio(simulTT,1.1,\"P_maiz_OLS\")"
   ]
  },
  {
   "cell_type": "markdown",
   "metadata": {},
   "source": [
    "Error cuadrático medio del coeficiente estimado del precio del trigo."
   ]
  },
  {
   "cell_type": "code",
   "execution_count": 28,
   "metadata": {},
   "outputs": [
    {
     "data": {
      "text/plain": [
       "1274.9172488579459"
      ]
     },
     "execution_count": 28,
     "metadata": {},
     "output_type": "execute_result"
    }
   ],
   "source": [
    "error_cuadratico_medio(simulTT,-0.4,\"P_trigo_OLS\")"
   ]
  },
  {
   "cell_type": "markdown",
   "metadata": {},
   "source": [
    "Error cuadrático medio del intercepto de la demanda de trigo."
   ]
  },
  {
   "cell_type": "code",
   "execution_count": 35,
   "metadata": {},
   "outputs": [
    {
     "data": {
      "text/plain": [
       "2226659.930521876"
      ]
     },
     "execution_count": 35,
     "metadata": {},
     "output_type": "execute_result"
    }
   ],
   "source": [
    "error_cuadratico_medio(simulTT,50,\"Intercept\")"
   ]
  },
  {
   "cell_type": "markdown",
   "metadata": {},
   "source": [
    "Tabla comparativa de los estimadores."
   ]
  },
  {
   "cell_type": "markdown",
   "metadata": {},
   "source": [
    "|Estimación| MCO  | MC2E \n",
    "|---|---|---|\n",
    "|Precio del maíz de la demanda de maíz   |0.0171   |9204995.15 \n",
    "|Precio del trigo de la demanda de maíz   |0.2451   |17770418.77  \n",
    "|Intercepto de la demanda de maíz        |3039.4272   |44874046573.2951\n",
    "|Precio del maíz de la demanda de trigo   |0.2482   |952.91   \n",
    "|Precio del trigo de la demanda de trigo  |0.0385   |1274.91\n",
    "|Intercepto de la demanda de trigo        |1122.9055   |2226659.9305"
   ]
  },
  {
   "cell_type": "markdown",
   "metadata": {},
   "source": [
    "Según el criterio del error cuadrático medio, ¿cuál de los dos estimadores (MCO o MC2E) es mejor para\n",
    "estimar las ecuaciones de demanda?"
   ]
  },
  {
   "cell_type": "markdown",
   "metadata": {},
   "source": [
    "A nivel del criterio del error cuadrático medio, el estimador MCO se consideraría mejor para estimar las ecuaciones de demanda pues posee el menor error cuadrático medio, a pesar de que es claro que estos estimadores están sesgados."
   ]
  },
  {
   "cell_type": "markdown",
   "metadata": {},
   "source": [
    "<h2>Pregunta 2</h2>\n",
    "\n",
    "Falso. La cantidad de datos disponible no es relevante en este caso para poder estimar. Si una ecuación se encuentra \"sub-identificada\" en sí se dice que no está identificada y solo es posible estimar aquellas que están \"sobre-identificada\" o \"exactamente identificada\".\n",
    "\n",
    "<h2>Pregunta 3</h2>\n",
    "\n",
    "Falso. El método de estimación dependerá de la forma del sistema SUR. En caso de que el sistema cumple que sus regresores son los mismos para cada regresión entonces si se puede estimar por mínimos cuadrados ordinarios ecuación por ecuación, sino deberá ser estimado solo por mínimos cuadrados generalizados tomando los supuestos que el modelo SUR cumple con los supuestos del modelo generalizado de regresión lineal, de otra forma no tendría resultados que sean eficientes.\n",
    "\n",
    "<h2>Pregunta 4</h2>\n",
    "\n",
    "A=\\begin{bmatrix} 1 & 2 \\\\ 3 & 4 \\end{bmatrix}   B=\\begin{bmatrix} 2 & -3 & & 4 \\\\ -4 & 3 & 2 & \\end{bmatrix} I=\\begin{bmatrix} 1 & 0 \\\\ 0 & 1 \\end{bmatrix}\n",
    "\n",
    "\n",
    " $A\\otimes B$\n",
    "\n",
    "$\\begin{bmatrix}\n",
    "B & 2B \\\\\n",
    "3B & 4B\n",
    "\\end{bmatrix}=\\begin{bmatrix}\n",
    "2 & -3 & 4 & 4 & 8 \\\\\n",
    "-4 & 3 & -2 & -8 & -4 \\\\\n",
    "6 & -9 & 12 & 8 & 16 \\\\\n",
    "-12 & 9 & -6 & -16 & 8\n",
    "\\end{bmatrix}$\n",
    "\n",
    "\n",
    "$B\\otimes A$\n",
    "\n",
    "$\\begin{bmatrix} 2A & -3A & 4A \\\\\n",
    "-4A & 3A & -2A \\end{bmatrix}=\\begin{bmatrix} 2 & 4 & -3 & -6 & 4 & 8 \\\\ 6 & 8 & -9 & -12 & 12 & 16 \\\\ -4 & -8 & 3 & 6 & -2 & -4 \\\\ -12 & -16 & 9 & 12 & -6 & -8 \\end{bmatrix}\n",
    "$\n",
    "\n",
    "$A\\otimes I$\n",
    "\n",
    "$\\begin{bmatrix}\n",
    "1I & 2I \\\\\n",
    "3I & 4I\n",
    "\\end{bmatrix}=\\begin{bmatrix}\n",
    "1 & 0 & 2 & 0 \\\\\n",
    "0 & 1 & 0 & 2 \\\\\n",
    "3 & 0 & 4 & 0 \\\\\n",
    "0 & 3 & 0 & 4\n",
    "\\end{bmatrix}\n",
    "$\n",
    "\n",
    "$I\\otimes A$\n",
    "\n",
    "\n",
    "$\\begin{bmatrix}\n",
    "A & 0A \\\\\n",
    "0A & A\n",
    "\\end{bmatrix}=\\begin{bmatrix}\n",
    "1 & 2 & 0 & 0 \\\\\n",
    "3 & 4 & 0 & 0 \\\\\n",
    "0 & 0 & 1 & 2 \\\\\n",
    "0 & 0 & 3 & 4\n",
    "\\end{bmatrix}\n",
    "$\n",
    "\n",
    "$\\begin{bmatrix}\n",
    "4 & 0 & 1 & 0 \\\\\n",
    "0 & 4 & 0 & 1 \\\\\n",
    "2 & 0 & 3 & 0 \\\\\n",
    "0 & 2 & 0 & 3\n",
    "\\end{bmatrix}^{-1}$\n",
    "\n",
    "\n",
    "<center>$\\begin{bmatrix}\n",
    "4I & 1I \\\\\n",
    "2I & 3I\n",
    "\\end{bmatrix}^{-1}\n",
    "\\qquad$ donde $\\qquad$ $C=\\begin{bmatrix}\n",
    "4 & 1 \\\\\n",
    "2 & 3\n",
    "\\end{bmatrix}\n",
    "$\n",
    "$\\qquad$\n",
    "</center>\n",
    "<center>\n",
    "así $\\qquad$ $\\begin{bmatrix}\n",
    "4I & 1I \\\\\n",
    "2I & 3I\n",
    "\\end{bmatrix}^{-1}= C^{-1}\\otimes I^{-1}$</center>"
   ]
  }
 ],
 "metadata": {
  "colab": {
   "name": "telaraña.ipynb",
   "provenance": []
  },
  "kernelspec": {
   "display_name": "Python 3",
   "language": "python",
   "name": "python3"
  },
  "language_info": {
   "codemirror_mode": {
    "name": "ipython",
    "version": 3
   },
   "file_extension": ".py",
   "mimetype": "text/x-python",
   "name": "python",
   "nbconvert_exporter": "python",
   "pygments_lexer": "ipython3",
   "version": "3.8.5"
  }
 },
 "nbformat": 4,
 "nbformat_minor": 4
}
