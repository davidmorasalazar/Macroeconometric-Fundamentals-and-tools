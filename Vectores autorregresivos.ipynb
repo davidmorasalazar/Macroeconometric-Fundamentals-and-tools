{
 "cells": [
  {
   "cell_type": "markdown",
   "id": "5c9bfbd1-f618-4a23-aca0-ff5c77e3945c",
   "metadata": {},
   "source": [
    "<center><img src=\"https://github.com/randall-romero/EC4301/blob/master/Laboratorios/Tema09-SEM/escuela-de-economia.png?raw=1\" width=\"260\" height=\"60\"></center>\n",
    "<center>\n",
    "    <b>EC4301 MACROECONOMETRÍA</b><br>\n",
    "    <b>Profesor:  Randall Romero Aguilar, PhD</b>\n",
    "    <br><b>Estudiantes: David Mora Salazar y Manfred Ramírez Alfaro</b><br>\n",
    "<br><br>\n",
    "<b>Tarea 7:</b>\n",
    "<div style=\"font-size:175%;color:white; background-color: #0064b0;\">Tarea 7</div>\n",
    "</center>"
   ]
  },
  {
   "cell_type": "markdown",
   "id": "e8a7d88a-f3d4-496d-a3be-d9aa1888f8c3",
   "metadata": {},
   "source": [
    "Pregunta 1:"
   ]
  },
  {
   "cell_type": "markdown",
   "id": "8e87fc2b-3cfe-4a8d-84c1-7b5004f29b18",
   "metadata": {},
   "source": [
    "a)"
   ]
  },
  {
   "cell_type": "markdown",
   "id": "e42da449-2b9d-44b2-9f2d-097da0af46c0",
   "metadata": {},
   "source": [
    "i)"
   ]
  },
  {
   "cell_type": "markdown",
   "id": "1613143d-1c37-413e-83c9-9049b5000a80",
   "metadata": {},
   "source": [
    "En particular, el modelo es\n",
    "\n",
    "\\begin{align*} \n",
    "q^s_{t} &= 0.7p_{t} + 2 + \\epsilon^s_{t}  \\tag{oferta}\\\\\n",
    "q^d_{t} &= -0.5p_{t} + 1m_{t} + 6 + \\epsilon^d_{t} \\tag{demanda}\n",
    "\\end{align*}\n",
    "\n",
    "y puede escribirse de manera estructural como\n",
    "$$\n",
    "\\underset{\\Gamma^\\intercal}{\\begin{pmatrix}1 & -0.7 \\\\ 1 & 0.5 \\end{pmatrix}} \n",
    "\\underset{Y_t}{\\begin{pmatrix}q_{t} \\\\ p_{t}\\end{pmatrix}} + \n",
    "\\underset{B^\\intercal}{\\begin{pmatrix}-2 & 0 \\\\ -6 & -1\\end{pmatrix}} \n",
    "{\\begin{pmatrix}1 \\\\ m_{t}\\end{pmatrix}} =\n",
    "\\underset{\\epsilon_t}{\\begin{pmatrix}\\epsilon^s_{t} \\\\ \\epsilon^d_{t}\\end{pmatrix}}\n",
    "$$"
   ]
  },
  {
   "cell_type": "markdown",
   "id": "ca905403-9887-4290-a9ee-b1c5eb7f37a2",
   "metadata": {},
   "source": [
    "ii)"
   ]
  },
  {
   "cell_type": "markdown",
   "id": "116e9f23-8385-4ecf-b63f-2f244333ae4a",
   "metadata": {},
   "source": [
    "La forma reducida tiene la forma"
   ]
  },
  {
   "cell_type": "markdown",
   "id": "42cf6749-cc03-4035-88bf-3d3686b755d3",
   "metadata": {},
   "source": [
    "$$ \n",
    "\\underset{Y_t}{\\begin{pmatrix}q_{t} \\\\ p_{t}\\end{pmatrix}} = \n",
    "\\underset{\\Pi^\\intercal}{\\begin{pmatrix}\\frac{13}{3} & \\frac{7}{12} \\\\ \\frac{10}{3}& \\frac{5}{6}\\end{pmatrix}} \n",
    "{\\begin{pmatrix}1 \\\\ m_{t}\\end{pmatrix}} +\n",
    "\\underset{v_t}{\\begin{pmatrix}\\frac{5\\epsilon^s_{t}+7\\epsilon^d_{t}}{12} \\\\ \\frac{-5\\epsilon^s_{t}+5\\epsilon^d_{t}}{6}\\end{pmatrix}}\n",
    "$$"
   ]
  },
  {
   "cell_type": "markdown",
   "id": "b13b2ccb-f005-42ed-84ed-1cd83d37795d",
   "metadata": {},
   "source": [
    "De manera simple se tiene:\n",
    "$$\n",
    "q_{t} = \\frac{13}{3} + \\frac{7}{12} m_{t} + \\frac{5}{12}\\epsilon^s_{t} + \\frac{7}{12}\\epsilon^d_{t}\n",
    "$$"
   ]
  },
  {
   "cell_type": "markdown",
   "id": "21189780-ef2d-450f-8256-c5dc4b9b966a",
   "metadata": {},
   "source": [
    "$$\n",
    "p_{t} = \\frac{10}{3} + \\frac{5}{6} m_{t} - \\frac{5}{6}\\epsilon^s_{t} + \\frac{5}{6}\\epsilon^d_{t}\n",
    "$$"
   ]
  },
  {
   "cell_type": "markdown",
   "id": "25533506-a7d7-4143-8663-d6add3df3830",
   "metadata": {},
   "source": [
    "iii)"
   ]
  },
  {
   "cell_type": "markdown",
   "id": "4e1ddc38-2b00-4ebd-b0e8-f8903777ce82",
   "metadata": {},
   "source": [
    "$$\n",
    "  \\frac{\\partial\n",
    "q_{t}}{\\partial\n",
    "m_{t}} = \\frac{7}{12}\n",
    "$$"
   ]
  },
  {
   "cell_type": "markdown",
   "id": "53ce65ff-fa8d-40a2-92fa-1dac7ed4ae07",
   "metadata": {},
   "source": [
    "Entonces"
   ]
  },
  {
   "cell_type": "markdown",
   "id": "a62104b5-2130-4b14-aad4-dcaf5d25a231",
   "metadata": {},
   "source": [
    "$$\n",
    "\\frac{\\bigtriangleup\n",
    "q_{t}}{\\bigtriangleup\n",
    "m_{t=24}} = \\frac{7}{12}*24 = 14\n",
    "$$"
   ]
  },
  {
   "cell_type": "markdown",
   "id": "5a78e09d-a4ef-4135-aa49-41fc68fde826",
   "metadata": {},
   "source": [
    "Un aumento en mt en 24 aumenta qt en 14."
   ]
  },
  {
   "cell_type": "markdown",
   "id": "1770dd85-de72-4d35-841d-cdb7f1d81cd8",
   "metadata": {},
   "source": [
    "$$\n",
    "  \\frac{\\partial\n",
    "p_{t}}{\\partial\n",
    "m_{t}} = \\frac{5}{6}\n",
    "$$"
   ]
  },
  {
   "cell_type": "markdown",
   "id": "c4c4ba21-427f-4772-a096-83f47ef170ab",
   "metadata": {},
   "source": [
    "$$\n",
    "\\frac{\\bigtriangleup\n",
    "p_{t}}{\\bigtriangleup\n",
    "m_{t=24}} = \\frac{5}{6}*24 = 20\n",
    "$$"
   ]
  },
  {
   "cell_type": "markdown",
   "id": "2fabfe8f-7215-4c2c-9376-fad5a97b07c5",
   "metadata": {},
   "source": [
    "Un aumento en mt en 24 aumenta pt en 20."
   ]
  },
  {
   "cell_type": "markdown",
   "id": "dcac94da-0899-46a9-8ab0-f97c266ee4de",
   "metadata": {},
   "source": [
    "iv)"
   ]
  },
  {
   "cell_type": "markdown",
   "id": "6509a25d-6c99-481b-9f66-cdb4cf24a6d7",
   "metadata": {},
   "source": [
    "$$\n",
    "  \\frac{\\partial\n",
    "q_{t}}{\\partial\n",
    "\\epsilon^s_{t}} = \\frac{5}{12}\n",
    "$$"
   ]
  },
  {
   "cell_type": "markdown",
   "id": "026176cc-baf3-476e-b6fc-aa13b9093328",
   "metadata": {},
   "source": [
    "$$\n",
    "\\frac{\\bigtriangleup\n",
    "q_{t}}{\\bigtriangleup\\epsilon^s_{t=24}} = \\frac{5}{12}*24 = 10\n",
    "$$"
   ]
  },
  {
   "cell_type": "markdown",
   "id": "faa34c2b-00e8-4bf4-b33c-e666e231d148",
   "metadata": {},
   "source": [
    "Un aumento en ets en 24 aumenta qt en 10."
   ]
  },
  {
   "cell_type": "markdown",
   "id": "31ad4c15-784c-43c8-86ea-bd1b7dd045c8",
   "metadata": {},
   "source": [
    "$$\n",
    "  \\frac{\\partial\n",
    "p_{t}}{\\partial\n",
    "\\epsilon^s_{t}} = \\frac{-5}{6}\n",
    "$$"
   ]
  },
  {
   "cell_type": "markdown",
   "id": "39f4c0de-200e-40ba-aed5-005f48708d2f",
   "metadata": {},
   "source": [
    "$$\n",
    "\\frac{\\bigtriangleup\n",
    "p_{t}}{\\bigtriangleup\\epsilon^s_{t=24}} = \\frac{-5}{6}*24 = -20\n",
    "$$"
   ]
  },
  {
   "cell_type": "markdown",
   "id": "caeeab87-8029-4518-8935-be935cbd300e",
   "metadata": {},
   "source": [
    "Un aumento en ets en 24 reduce pt en 20."
   ]
  },
  {
   "cell_type": "markdown",
   "id": "25bdc163-f284-4142-adc1-b4c7be0fbcc9",
   "metadata": {},
   "source": [
    "b)"
   ]
  },
  {
   "cell_type": "markdown",
   "id": "88dc6080-9335-4710-976d-ac3998c34ab1",
   "metadata": {},
   "source": [
    "i)"
   ]
  },
  {
   "cell_type": "markdown",
   "id": "4e0fc4ac-3df7-4941-8958-f91f80dc8705",
   "metadata": {},
   "source": [
    "En particular, el modelo es\n",
    "\n",
    "\\begin{align*} \n",
    "q^s_{t} &= 0.4p_{t} + 3 + 0.25m_{t}+ \\epsilon^s_{t}  \\tag{oferta}\\\\\n",
    "q^d_{t} &= -0.2p_{t} + 0.75m_{t} + 5 + \\epsilon^d_{t} \\tag{demanda}\n",
    "\\end{align*}\n",
    "\n",
    "y puede escribirse de manera estructural como\n",
    "$$\n",
    "\\underset{\\Gamma^\\intercal}{\\begin{pmatrix}1 & -0.4 \\\\ 1 & 0.2 \\end{pmatrix}} \n",
    "\\underset{Y_t}{\\begin{pmatrix}q_{t} \\\\ p_{t}\\end{pmatrix}} + \n",
    "\\underset{B^\\intercal}{\\begin{pmatrix}-3 & -0.25 \\\\ -5 & -0.75\\end{pmatrix}} \n",
    "{\\begin{pmatrix}1 \\\\ m_{t}\\end{pmatrix}} =\n",
    "\\underset{\\epsilon_t}{\\begin{pmatrix}\\epsilon^s_{t} \\\\ \\epsilon^d_{t}\\end{pmatrix}}\n",
    "$$"
   ]
  },
  {
   "cell_type": "markdown",
   "id": "fb7ac5fe-aa32-4685-8551-2e67fb445ca6",
   "metadata": {},
   "source": [
    "ii)"
   ]
  },
  {
   "cell_type": "markdown",
   "id": "71472a29-1724-4126-b391-d2f841fd45af",
   "metadata": {},
   "source": [
    "La forma reducida tiene la forma"
   ]
  },
  {
   "cell_type": "markdown",
   "id": "3e99a5a6-6e06-42c1-bc75-631cb5deace7",
   "metadata": {},
   "source": [
    "$$ \n",
    "\\underset{Y_t}{\\begin{pmatrix}q_{t} \\\\ p_{t}\\end{pmatrix}} = \n",
    "\\underset{\\Pi^\\intercal}{\\begin{pmatrix}\\frac{13}{3} & \\frac{7}{12} \\\\ \\frac{10}{3}& \\frac{5}{6}\\end{pmatrix}} \n",
    "{\\begin{pmatrix}1 \\\\ m_{t}\\end{pmatrix}} +\n",
    "\\underset{v_t}{\\begin{pmatrix}\\frac{\\epsilon^s_{t}+2\\epsilon^d_{t}}{3} \\\\ \\frac{-5\\epsilon^s_{t}+5\\epsilon^d_{t}}{3}\\end{pmatrix}}\n",
    "$$"
   ]
  },
  {
   "cell_type": "markdown",
   "id": "4db7483e-0c3c-480c-b45b-f6eaeb0d461f",
   "metadata": {},
   "source": [
    "De manera simple se tiene:\n",
    "$$\n",
    "q_{t} = \\frac{13}{3} + \\frac{7}{12} m_{t} + \\frac{1}{3}\\epsilon^s_{t} + \\frac{2}{3}\\epsilon^d_{t}\n",
    "$$"
   ]
  },
  {
   "cell_type": "markdown",
   "id": "8020c1f0-52fa-41eb-934b-b5e1983d77de",
   "metadata": {},
   "source": [
    "$$\n",
    "p_{t} = \\frac{10}{3} + \\frac{5}{6} m_{t} - \\frac{5}{3}\\epsilon^s_{t} + \\frac{5}{3}\\epsilon^d_{t}\n",
    "$$"
   ]
  },
  {
   "cell_type": "markdown",
   "id": "cdd66ac2-698c-4ac3-a20d-7c22927774a2",
   "metadata": {},
   "source": [
    "iii)"
   ]
  },
  {
   "cell_type": "markdown",
   "id": "da460359-059d-4999-a2c6-bdd4dd0ba199",
   "metadata": {},
   "source": [
    "$$\n",
    "  \\frac{\\partial\n",
    "q_{t}}{\\partial\n",
    "m_{t}} = \\frac{7}{12}\n",
    "$$"
   ]
  },
  {
   "cell_type": "markdown",
   "id": "630720df-f0a8-4126-b8a6-db69fcbcf558",
   "metadata": {
    "tags": []
   },
   "source": [
    "Entonces"
   ]
  },
  {
   "cell_type": "markdown",
   "id": "2f57ed90-4c67-44c5-9f14-27be9a17b654",
   "metadata": {},
   "source": [
    "$$\n",
    "\\frac{\\bigtriangleup\n",
    "q_{t}}{\\bigtriangleup\n",
    "m_{t=24}} = \\frac{7}{12}*24 = 14\n",
    "$$"
   ]
  },
  {
   "cell_type": "markdown",
   "id": "99a895ae-51fd-4adf-b0af-297ccb81faaf",
   "metadata": {},
   "source": [
    "Un aumento en mt en 24 aumenta qt en 14."
   ]
  },
  {
   "cell_type": "markdown",
   "id": "ebd0f3c6-cc1e-4147-ad35-06437afaab13",
   "metadata": {},
   "source": [
    "$$\n",
    "  \\frac{\\partial\n",
    "p_{t}}{\\partial\n",
    "m_{t}} = \\frac{5}{6}\n",
    "$$"
   ]
  },
  {
   "cell_type": "markdown",
   "id": "51b7978e-e667-432c-9053-9bced2859b05",
   "metadata": {},
   "source": [
    "$$\n",
    "\\frac{\\bigtriangleup\n",
    "p_{t}}{\\bigtriangleup\n",
    "m_{t=24}} = \\frac{5}{6}*24 = 20\n",
    "$$"
   ]
  },
  {
   "cell_type": "markdown",
   "id": "d75db0e4-b96a-4ec4-b898-22afc7bc1313",
   "metadata": {},
   "source": [
    "Un aumento en mt en 24 aumenta pt en 20."
   ]
  },
  {
   "cell_type": "markdown",
   "id": "1c03af4c-bac4-40fa-9787-bb5c95626c8b",
   "metadata": {},
   "source": [
    "iv)"
   ]
  },
  {
   "cell_type": "markdown",
   "id": "d9256af5-c834-4950-9be5-caaa722185e8",
   "metadata": {},
   "source": [
    "$$\n",
    "  \\frac{\\partial\n",
    "q_{t}}{\\partial\n",
    "\\epsilon^s_{t}} = \\frac{1}{3}\n",
    "$$"
   ]
  },
  {
   "cell_type": "markdown",
   "id": "dd472b9b-4453-4ebf-8944-314fd044776c",
   "metadata": {},
   "source": [
    "$$\n",
    "\\frac{\\bigtriangleup\n",
    "q_{t}}{\\bigtriangleup\\epsilon^s_{t=24}} = \\frac{1}{3}*24 = 8\n",
    "$$"
   ]
  },
  {
   "cell_type": "markdown",
   "id": "96884b04-8db6-4c85-be44-1d3635707c4d",
   "metadata": {},
   "source": [
    "Un aumento en ets en 24 aumenta qt en 8."
   ]
  },
  {
   "cell_type": "markdown",
   "id": "1446ea83-18dd-403d-8564-496486be7cb0",
   "metadata": {},
   "source": [
    "$$\n",
    "  \\frac{\\partial\n",
    "p_{t}}{\\partial\n",
    "\\epsilon^s_{t}} = \\frac{-5}{3}\n",
    "$$"
   ]
  },
  {
   "cell_type": "markdown",
   "id": "f95e4b3d-888c-4bae-ad20-e6cae12957e6",
   "metadata": {},
   "source": [
    "$$\n",
    "\\frac{\\bigtriangleup\n",
    "p_{t}}{\\bigtriangleup\\epsilon^s_{t=24}} = \\frac{-5}{3}*24 = -40\n",
    "$$"
   ]
  },
  {
   "cell_type": "markdown",
   "id": "31e413d9-57ac-4412-a1e5-71d71d33d896",
   "metadata": {},
   "source": [
    "Un aumento en ets en 24 reduce pt en 40."
   ]
  },
  {
   "cell_type": "markdown",
   "id": "89acf9b6-7d6a-4189-b1ea-a6d8e5f33755",
   "metadata": {},
   "source": [
    "c)"
   ]
  },
  {
   "cell_type": "markdown",
   "id": "38cbd606-5f23-4f07-94bd-70f5f04e3aae",
   "metadata": {},
   "source": [
    "i)\n",
    "\n",
    "Con base en mis propios resultados, los resultados externos no difieren de los míos a nivel reducido, sin embargo, los coeficientes de los errores sí son distintos y no es posible saber cuáles son los pesos o coeficiente del error reducido de mis ecuaciones. Se nota que ninguno es del todo creíble, pues no se pueden identificar con exactitud el efecto de los errores debido a que no se logra identificar esa información de mis resultados."
   ]
  },
  {
   "cell_type": "markdown",
   "id": "353bcfe2-c6dd-4850-937a-dc8f5d1c0713",
   "metadata": {},
   "source": [
    "ii)\n",
    "\n",
    "Se tiene lo siguiente"
   ]
  },
  {
   "cell_type": "markdown",
   "id": "1b75c549-53d4-46c7-87fd-d436220ece11",
   "metadata": {},
   "source": [
    "$$\n",
    "{\\begin{pmatrix}q_{t} & p_{t}\\end{pmatrix}}{\\begin{pmatrix}1 & 1 \\\\ -\\gamma_{12} & -\\gamma_{21} \\end{pmatrix}} \n",
    " + \n",
    "{\\begin{pmatrix}1 & m_{t}\\end{pmatrix}}{\\begin{pmatrix}-\\beta_{11} & -\\beta_{21} \\\\ -\\beta_{12} & -\\beta_{22}\\end{pmatrix}} \n",
    " =\n",
    "{\\begin{pmatrix}\\epsilon^s_{t} & \\epsilon^d_{t}\\end{pmatrix}}\n",
    "$$"
   ]
  },
  {
   "cell_type": "markdown",
   "id": "fcf6509d-62e2-495f-a15f-8318ed087421",
   "metadata": {},
   "source": [
    "De manera que se puede transformar en"
   ]
  },
  {
   "cell_type": "markdown",
   "id": "7c2fff9b-12c6-4604-9dd9-91259e77e232",
   "metadata": {},
   "source": [
    "$$\n",
    "A_{z_t}={\\begin{pmatrix}1 & -\\gamma_{12} & -\\beta_{11} & -\\beta_{12}\\\\ 1 & -\\gamma_{21} &-\\beta_{21} &-\\beta_{22} \\end{pmatrix}}{\\begin{pmatrix}q_{t}\\\\ q_{t}\\\\1 \\\\ m_{t}\\end{pmatrix}}\n",
    " =\n",
    "{\\begin{pmatrix}\\epsilon^s_{t} \\\\ \\epsilon^d_{t}\\end{pmatrix}}\n",
    "$$"
   ]
  },
  {
   "cell_type": "markdown",
   "id": "447542dc-a60c-48ae-ba80-cb3fb70b44ab",
   "metadata": {},
   "source": [
    "Las matrices de restricción son"
   ]
  },
  {
   "cell_type": "markdown",
   "id": "e40b34e1-ba86-44f5-9cb1-cd57521c655a",
   "metadata": {},
   "source": [
    "$$\n",
    "{\\tilde{A_1}}={\\begin{pmatrix}1 \\\\ 1 \\end{pmatrix}}\n",
    "$$"
   ]
  },
  {
   "cell_type": "markdown",
   "id": "3cce8529-d036-47b7-8983-fe6ebae77473",
   "metadata": {},
   "source": [
    "\n",
    "\n",
    "$$\n",
    "{\\tilde{A_2}}={\\begin{pmatrix}1 \\\\ 1 \\end{pmatrix}}\n",
    "$$\n"
   ]
  },
  {
   "cell_type": "markdown",
   "id": "c6441b8a-e127-4c80-919a-1a1f1d2e2a96",
   "metadata": {},
   "source": [
    "$${\\tilde{A_1}} y {\\tilde{A_2}}$$ No cumplen con la condición de orden porque 2 filas no pueden ser linealmente independientes si solo existe una columna. \n",
    "\n",
    "Además, $${\\tilde{A_1}} y {\\tilde{A_2}}$$ no cumplen con la condición de rango pues el número de filas que son linealmente independientes es 1, Rango=1, que es menor al número de variables dependientes M=2. Por lo tanto, ni la demanda ni la oferta están identificados."
   ]
  },
  {
   "cell_type": "markdown",
   "id": "1bc3a867-61be-4824-9ac7-32e573993712",
   "metadata": {},
   "source": [
    "iii)\n",
    "\n",
    "Si el modelo estructural no está identificado sus ecuaciones no pueden ser estimadas, por tanto, no se sabe a ciencia cierta el efecto. También, a partir de los parámetros reducidos no se pueden calcular los parámetros estructurales, esto precisamente genera el problema de la estimación, esto genera un problema para estimar los efectos de los errores o shocks estructurales, pues a nivel de la constante y la variable mt, las estimaciones de a.iii y b.iii son iguales. Dado que en el modelo no está identificado si ocurre un shock no se puede identificar si ocurrió por la oferta o por la demanda, por lo que no se puede estimar ninguno de los efectos, por lo cual, es riesgo tomar una decisión con base en estos resultados como gerente."
   ]
  }
 ],
 "metadata": {
  "kernelspec": {
   "display_name": "Python 3",
   "language": "python",
   "name": "python3"
  },
  "language_info": {
   "codemirror_mode": {
    "name": "ipython",
    "version": 3
   },
   "file_extension": ".py",
   "mimetype": "text/x-python",
   "name": "python",
   "nbconvert_exporter": "python",
   "pygments_lexer": "ipython3",
   "version": "3.8.5"
  }
 },
 "nbformat": 4,
 "nbformat_minor": 5
}
